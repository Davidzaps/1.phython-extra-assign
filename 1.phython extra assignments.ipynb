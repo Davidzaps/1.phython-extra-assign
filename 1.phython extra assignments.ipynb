{
 "cells": [
  {
   "cell_type": "code",
   "execution_count": null,
   "id": "5f2ed90a",
   "metadata": {},
   "outputs": [],
   "source": [
    "print(input(\"enter the institution name? :\"))\n"
   ]
  },
  {
   "cell_type": "code",
   "execution_count": null,
   "id": "f4ac620c",
   "metadata": {},
   "outputs": [],
   "source": [
    "print (input())"
   ]
  },
  {
   "cell_type": "code",
   "execution_count": null,
   "id": "f795475c",
   "metadata": {},
   "outputs": [],
   "source": [
    "print(input(\"enter your name:\"))\n",
    "print(input(\"enter your age:\"))\n",
    "print(input(\"enter your school name:\"))\n",
    "print(input(\"enter your degree:\"))\n",
    "\n"
   ]
  },
  {
   "cell_type": "code",
   "execution_count": null,
   "id": "d56f1cd5",
   "metadata": {},
   "outputs": [],
   "source": [
    "NUM1=int(input())\n",
    "NUM2=int(input())\n",
    "ADD=NUM1+NUM2\n",
    "print(\"enter two numbers:\",ADD)"
   ]
  },
  {
   "cell_type": "code",
   "execution_count": null,
   "id": "ba0ed90b",
   "metadata": {},
   "outputs": [],
   "source": [
    "NUM1=int(input())\n",
    "NUM2=int(input())\n",
    "SUB=NUM1-NUM2\n",
    "print(\"enter two numbers:\",SUB)\n"
   ]
  },
  {
   "cell_type": "code",
   "execution_count": null,
   "id": "ff0dc567",
   "metadata": {},
   "outputs": [],
   "source": [
    "NUM1=int(input())\n",
    "NUM2=int(input())\n",
    "MUL=NUM1*NUM2\n",
    "print(\"enter two numbers :\",MUL)"
   ]
  },
  {
   "cell_type": "code",
   "execution_count": null,
   "id": "c4d0267c",
   "metadata": {},
   "outputs": [],
   "source": [
    "NUM1=int(input())\n",
    "NUM2=int(input())\n",
    "DIV=NUM1/NUM2\n",
    "print(\"enter the number:\",DIV)"
   ]
  },
  {
   "cell_type": "code",
   "execution_count": null,
   "id": "d6735cfb",
   "metadata": {},
   "outputs": [],
   "source": [
    "NUM1=int(input())\n",
    "NUM2=int(input())\n",
    "FLOAR=NUM1//NUM2\n",
    "print(\"enter the number:\",FLOAR)"
   ]
  },
  {
   "cell_type": "code",
   "execution_count": 1,
   "id": "551ef332",
   "metadata": {},
   "outputs": [
    {
     "name": "stdout",
     "output_type": "stream",
     "text": [
      "76\n",
      "31\n",
      "enter a number: 14\n"
     ]
    }
   ],
   "source": [
    "NUM1=int(input())\n",
    "NUM2=int(input())\n",
    "MODULO=NUM1%NUM2\n",
    "print(\"enter a number:\",MODULO)"
   ]
  },
  {
   "cell_type": "code",
   "execution_count": 3,
   "id": "eecdd30d",
   "metadata": {},
   "outputs": [
    {
     "name": "stdout",
     "output_type": "stream",
     "text": [
      "enter a number4\n",
      "enter a number4\n",
      "256\n"
     ]
    }
   ],
   "source": [
    "def power(base,exponent):\n",
    "    if exponent==0:  #this function checks till the execution gets completed\n",
    "        return 1     #after that it comes to the same position\n",
    "    elif exponent>0:\n",
    "        return base*power(base,exponent-1)   #base*power here it multiplies base by result of power till the exponent reaches 1\n",
    "    else:\n",
    "        return 1/power(base,exponent)     #returns the value of 1..by raising the power and it actually returns the inverse\n",
    "                                            # of the above expression\n",
    "\n",
    "base=int(input(\"enter a number\"))\n",
    "exponent=int(input(\"enter a number\"))\n",
    "result=power(base,exponent)       #the function is stored in another variable named result\n",
    "print(result)\n",
    "    "
   ]
  },
  {
   "cell_type": "code",
   "execution_count": null,
   "id": "1c719594",
   "metadata": {},
   "outputs": [],
   "source": []
  }
 ],
 "metadata": {
  "kernelspec": {
   "display_name": "Python 3 (ipykernel)",
   "language": "python",
   "name": "python3"
  },
  "language_info": {
   "codemirror_mode": {
    "name": "ipython",
    "version": 3
   },
   "file_extension": ".py",
   "mimetype": "text/x-python",
   "name": "python",
   "nbconvert_exporter": "python",
   "pygments_lexer": "ipython3",
   "version": "3.11.5"
  }
 },
 "nbformat": 4,
 "nbformat_minor": 5
}
